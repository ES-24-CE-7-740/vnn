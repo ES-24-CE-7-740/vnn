{
 "cells": [
  {
   "cell_type": "markdown",
   "metadata": {},
   "source": [
    "# ModelNet40 inspection"
   ]
  },
  {
   "cell_type": "markdown",
   "metadata": {},
   "source": [
    "Data structure: [x,y,z,normal_x,normal_y,normal_z]  \n",
    "40 different classes"
   ]
  },
  {
   "cell_type": "code",
   "execution_count": null,
   "metadata": {},
   "outputs": [
    {
     "name": "stdout",
     "output_type": "stream",
     "text": [
      "The size of train data is 9843\n",
      "Point: torch.Size([1, 1024, 6])\n",
      "Label: torch.Size([1, 1])\n",
      "tensor([[ 0.3757,  0.3254,  0.2975,  0.1168, -0.0176, -0.9930]])\n",
      "tensor([[8]], dtype=torch.int32)\n"
     ]
    }
   ],
   "source": [
    "from data_utils.ModelNetDataLoader import ModelNetDataLoader\n",
    "import torch\n",
    "\n",
    "root = 'data/modelnet40_normal_resampled/'\n",
    "data = ModelNetDataLoader(root=root,split='train', uniform=False, normal_channel=False) # Using default vals as set in train_cls.py\n",
    "DataLoader = torch.utils.data.DataLoader(data, batch_size=1, shuffle=True)\n",
    "for point,label in DataLoader:\n",
    "    print(f\"Point: {point.shape}\")\n",
    "    print(f\"Label: {label.shape}\")\n",
    "    break\n",
    "\n",
    "print(point[:,0,:])\n",
    "print(label)"
   ]
  },
  {
   "cell_type": "code",
   "execution_count": 10,
   "metadata": {},
   "outputs": [
    {
     "data": {
      "text/plain": [
       "array([[[-0.29555875,  0.29064938,  0.7729147 , -0.4712    ,\n",
       "          0.2539    , -0.8447    ],\n",
       "        [ 0.22454733, -0.41021997, -0.81656206,  0.6998    ,\n",
       "         -0.4855    , -0.524     ],\n",
       "        [-0.42110497, -0.41264176,  0.00866193, -0.9928    ,\n",
       "         -0.09772   , -0.06942   ],\n",
       "        ...,\n",
       "        [ 0.05221193,  0.25160995, -0.7509797 ,  0.6338    ,\n",
       "          0.1596    ,  0.7569    ],\n",
       "        [-0.33634192, -0.23555966, -0.81927454,  0.        ,\n",
       "         -0.9999    , -0.01139   ],\n",
       "        [ 0.05531183,  0.05738147,  0.34522453, -0.7657    ,\n",
       "          0.261     ,  0.5879    ]]], dtype=float32)"
      ]
     },
     "execution_count": 10,
     "metadata": {},
     "output_type": "execute_result"
    }
   ],
   "source": [
    "point.data.numpy()"
   ]
  },
  {
   "cell_type": "code",
   "execution_count": 19,
   "metadata": {},
   "outputs": [
    {
     "data": {
      "text/plain": [
       "float"
      ]
     },
     "execution_count": 19,
     "metadata": {},
     "output_type": "execute_result"
    }
   ],
   "source": [
    "type(point[0,0,0].item())"
   ]
  },
  {
   "cell_type": "markdown",
   "metadata": {},
   "source": [
    "# ShapeNet inspection"
   ]
  },
  {
   "cell_type": "code",
   "execution_count": 36,
   "metadata": {},
   "outputs": [
    {
     "name": "stderr",
     "output_type": "stream",
     "text": [
      "  0%|          | 0/24 [00:00<?, ?it/s]"
     ]
    },
    {
     "name": "stdout",
     "output_type": "stream",
     "text": [
      "Point: torch.Size([512, 2048, 3])\n",
      "Label: torch.Size([512, 1])\n",
      "Target: torch.Size([512, 2048])\n"
     ]
    },
    {
     "name": "stderr",
     "output_type": "stream",
     "text": [
      "  0%|          | 0/24 [00:01<?, ?it/s]\n"
     ]
    }
   ],
   "source": [
    "from data_utils.ShapeNetDataLoader import PartNormalDataset\n",
    "import torch\n",
    "from tqdm import tqdm\n",
    "\n",
    "root = 'data/shapenetcore_partanno_segmentation_benchmark_v0_normal/'\n",
    "data = PartNormalDataset(root=root, npoints=2048, split='train', normal_channel=False)\n",
    "DataLoader = torch.utils.data.DataLoader(data, batch_size=512,shuffle=True,num_workers=3)\n",
    "\n",
    "for point,label,target in tqdm(DataLoader):\n",
    "    print(f\"Point: {point.shape}\")\n",
    "    print(f\"Label: {label.shape}\")\n",
    "    print(f\"Target: {target.shape}\")\n",
    "    #max_label = target.max()\n",
    "    break\n",
    "\n",
    "#print(max_label)\n",
    "#print(point[:,0,:])\n",
    "#print(label.max())"
   ]
  },
  {
   "cell_type": "markdown",
   "metadata": {},
   "source": [
    "# SemanticKitti inspection"
   ]
  },
  {
   "cell_type": "code",
   "execution_count": null,
   "metadata": {},
   "outputs": [],
   "source": [
    "import numpy as np\n",
    "import pandas as pd\n",
    "\n",
    "def load_pc_semantic3d(filename):\n",
    "    pc_pd = pd.read_csv(filename, header=None, delim_whitespace=True, dtype=np.float16)\n",
    "    pc = pc_pd.values\n",
    "    return pc\n",
    "\n",
    "def load_pc_kitti(pc_path):\n",
    "    scan = np.fromfile(pc_path, dtype=np.float32)\n",
    "    scan = scan.reshape((-1, 4))\n",
    "    points = scan[:, 0:3]  # get xyz\n",
    "    return points"
   ]
  },
  {
   "cell_type": "code",
   "execution_count": 40,
   "metadata": {},
   "outputs": [
    {
     "data": {
      "text/plain": [
       "numpy.ndarray"
      ]
     },
     "execution_count": 40,
     "metadata": {},
     "output_type": "execute_result"
    }
   ],
   "source": [
    "root = 'data/semantic_kitti_sample/'\n",
    "data = load_pc_kitti(root + '000001.bin')\n",
    "type(data)\n",
    "\n",
    "# 'data/semantic_kitti_sample/000001.bin'"
   ]
  },
  {
   "cell_type": "code",
   "execution_count": 49,
   "metadata": {},
   "outputs": [
    {
     "name": "stdout",
     "output_type": "stream",
     "text": [
      "12-11-2024_15-25-28\n"
     ]
    }
   ],
   "source": [
    "import datetime\n",
    "snapshot_time = datetime.datetime.now().strftime(\"%d-%m-%Y_%H-%M-%S\")\n",
    "print(snapshot_time)"
   ]
  },
  {
   "cell_type": "code",
   "execution_count": 64,
   "metadata": {},
   "outputs": [
    {
     "name": "stdout",
     "output_type": "stream",
     "text": [
      "No state found\n"
     ]
    }
   ],
   "source": [
    "try:\n",
    "    if newest_state is not None:\n",
    "        print(\"Loading model from state\")\n",
    "        del newest_state\n",
    "except NameError:\n",
    "    print(\"No state found\")\n",
    "    newest_state = 24\n",
    "\n",
    "\n"
   ]
  }
 ],
 "metadata": {
  "kernelspec": {
   "display_name": "vnn",
   "language": "python",
   "name": "python3"
  },
  "language_info": {
   "codemirror_mode": {
    "name": "ipython",
    "version": 3
   },
   "file_extension": ".py",
   "mimetype": "text/x-python",
   "name": "python",
   "nbconvert_exporter": "python",
   "pygments_lexer": "ipython3",
   "version": "3.10.15"
  }
 },
 "nbformat": 4,
 "nbformat_minor": 2
}
